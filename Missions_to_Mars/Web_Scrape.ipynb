{
 "cells": [
  {
   "cell_type": "code",
   "execution_count": 35,
   "id": "9b78f3be",
   "metadata": {},
   "outputs": [],
   "source": [
    "import os\n",
    "from bs4 import BeautifulSoup as bs\n",
    "import requests\n",
    "from splinter import Browser\n",
    "import pandas as pd\n",
    "import time\n",
    "import matplotlib.image as mpl\n",
    "import shutil\n",
    "from IPython.display import Image\n",
    "\n"
   ]
  },
  {
   "cell_type": "code",
   "execution_count": 36,
   "id": "c4706551",
   "metadata": {},
   "outputs": [],
   "source": [
    "executable_path = {'executable_path': '/usr/local/bin/chromedriver'}\n",
    "browser = Browser('chrome', **executable_path, headless=False)\n",
    "\n"
   ]
  },
  {
   "cell_type": "code",
   "execution_count": 25,
   "id": "989eb073",
   "metadata": {},
   "outputs": [
    {
     "name": "stdout",
     "output_type": "stream",
     "text": [
      "Latest News Title: NASA's Push to Save the Mars InSight Lander's Heat Probe\n",
      "Latest News Paragraph: The scoop on the end of the spacecraft's robotic arm will be used to 'pin' the mole against the wall of its hole.\n",
      "Latest News Date: June 26, 2022\n"
     ]
    }
   ],
   "source": [
    "# This method needs CHromeDriver Manager too.. Requests to wesbite without chromedriver dont seem to work. \n",
    "url = 'https://redplanetscience.com/'\n",
    "browser.visit(url)\n",
    "\n",
    "#  Create the html object\n",
    "html = browser.html\n",
    "\n",
    "#  use Beautiful soup to parse and find required titles, dates etc.\n",
    "soup = bs(html, 'html.parser')\n",
    "\n",
    "\n",
    "\n",
    "\n",
    "news_title = soup.find_all('div', class_='content_title')[0].text\n",
    "news_paragraph = soup.find_all('div', class_='article_teaser_body')[0].text\n",
    "news_date = soup.find_all('div', class_='list_date')[0].text\n",
    "\n",
    "# Print results\n",
    "print(f\"Latest News Title: {news_title}\")\n",
    "print(f\"Latest News Paragraph: {news_paragraph}\")\n",
    "print(f\"Latest News Date: {news_date}\")\n",
    "    \n",
    "    "
   ]
  },
  {
   "cell_type": "code",
   "execution_count": 26,
   "id": "bce681bd",
   "metadata": {},
   "outputs": [],
   "source": [
    "# Close the open browser\n",
    "browser.quit()"
   ]
  },
  {
   "cell_type": "markdown",
   "id": "ff9b1668",
   "metadata": {},
   "source": [
    "# JPL Mars Featured Image"
   ]
  },
  {
   "cell_type": "code",
   "execution_count": 8,
   "id": "051cbddd",
   "metadata": {},
   "outputs": [],
   "source": [
    "import pandas as pd"
   ]
  },
  {
   "cell_type": "code",
   "execution_count": 37,
   "id": "ea7feeee",
   "metadata": {},
   "outputs": [],
   "source": [
    "\n",
    "url = 'https://spaceimages-mars.com/'\n",
    "browser.visit(url)"
   ]
  },
  {
   "cell_type": "code",
   "execution_count": 38,
   "id": "45c20640",
   "metadata": {},
   "outputs": [
    {
     "data": {
      "text/plain": [
       "[<div class=\"floating_text_area\">\n",
       " <h2 class=\"brand_title\">FEATURED IMAGE</h2>\n",
       " <h1 class=\"media_feature_title\">Dusty Space Cloud</h1>\n",
       " <br/>\n",
       " <a class=\"showimg fancybox-thumbs\" href=\"image/featured/mars1.jpg\" target=\"_blank\"> <button class=\"btn btn-outline-light\"> FULL IMAGE</button></a>\n",
       " </div>]"
      ]
     },
     "execution_count": 38,
     "metadata": {},
     "output_type": "execute_result"
    }
   ],
   "source": [
    "#  Create the html object\n",
    "html = browser.html\n",
    "\n",
    "#  Parse and find required titles, dates etc.\n",
    "soup = bs(html, 'html.parser')\n",
    "floating_txt = soup.find_all('div', class_='floating_text_area')\n",
    "floating_txt"
   ]
  },
  {
   "cell_type": "code",
   "execution_count": 39,
   "id": "986931bf",
   "metadata": {},
   "outputs": [
    {
     "name": "stdout",
     "output_type": "stream",
     "text": [
      "image/featured/mars1.jpg\n",
      "Featured Image: https://spaceimages-mars.com/image/featured/mars1.jpg\n"
     ]
    }
   ],
   "source": [
    "for img in floating_txt:\n",
    "    a = img.find('a')\n",
    "    image = a['href']\n",
    "    print(image)\n",
    "feat_image = 'https://spaceimages-mars.com/' + image\n",
    "print (f\"Featured Image: {feat_image}\")"
   ]
  },
  {
   "cell_type": "code",
   "execution_count": 42,
   "id": "7d76f4a8",
   "metadata": {},
   "outputs": [
    {
     "data": {
      "text/html": [
       "<img src=\"images/featuredimage.jpg\"/>"
      ],
      "text/plain": [
       "<IPython.core.display.Image object>"
      ]
     },
     "execution_count": 42,
     "metadata": {},
     "output_type": "execute_result"
    }
   ],
   "source": [
    "# Save Images\n",
    "\n",
    "response = requests.get(feat_image, stream=True)\n",
    "with open('images/featuredimage.jpg', 'wb') as out_file:\n",
    "    shutil.copyfileobj(response.raw, out_file)\n",
    "\n",
    "Image(url= 'images/featuredimage.jpg')\n",
    "\n"
   ]
  },
  {
   "cell_type": "code",
   "execution_count": null,
   "id": "50da9f04",
   "metadata": {},
   "outputs": [],
   "source": []
  }
 ],
 "metadata": {
  "kernelspec": {
   "display_name": "PythonData",
   "language": "python",
   "name": "pythondata"
  },
  "language_info": {
   "codemirror_mode": {
    "name": "ipython",
    "version": 3
   },
   "file_extension": ".py",
   "mimetype": "text/x-python",
   "name": "python",
   "nbconvert_exporter": "python",
   "pygments_lexer": "ipython3",
   "version": "3.6.10"
  }
 },
 "nbformat": 4,
 "nbformat_minor": 5
}
